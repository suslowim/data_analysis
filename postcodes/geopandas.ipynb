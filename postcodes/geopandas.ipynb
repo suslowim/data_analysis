{
 "cells": [
  {
   "cell_type": "code",
   "id": "initial_id",
   "metadata": {
    "collapsed": true,
    "ExecuteTime": {
     "end_time": "2025-03-14T00:45:11.622687Z",
     "start_time": "2025-03-14T00:45:11.135897Z"
    }
   },
   "source": [
    "import os\n",
    "from pathlib import Path\n",
    "\n",
    "from dotenv import load_dotenv\n",
    "import geopandas as gp\n",
    "from matplotlib.pyplot import figure"
   ],
   "outputs": [],
   "execution_count": 1
  },
  {
   "metadata": {
    "ExecuteTime": {
     "end_time": "2025-03-14T00:45:11.675132Z",
     "start_time": "2025-03-14T00:45:11.638708Z"
    }
   },
   "cell_type": "code",
   "source": [
    "load_dotenv()\n",
    "path_os_boundaries = Path(os.environ.get(\"OS_BOUNDARIES_PATH\"))\n",
    "path_os_boundaries.exists()"
   ],
   "id": "810890d705d54e22",
   "outputs": [
    {
     "data": {
      "text/plain": [
       "True"
      ]
     },
     "execution_count": 2,
     "metadata": {},
     "output_type": "execute_result"
    }
   ],
   "execution_count": 2
  },
  {
   "metadata": {
    "ExecuteTime": {
     "end_time": "2025-03-14T00:46:54.784181Z",
     "start_time": "2025-03-14T00:45:11.815844Z"
    }
   },
   "cell_type": "code",
   "source": "os_boundaries = gp.read_file(path_os_boundaries)",
   "id": "fc071effe8927c39",
   "outputs": [],
   "execution_count": 3
  },
  {
   "metadata": {
    "ExecuteTime": {
     "end_time": "2025-03-14T00:49:00.208653Z",
     "start_time": "2025-03-14T00:49:00.152210Z"
    }
   },
   "cell_type": "code",
   "source": "os_boundaries.tail(10)",
   "id": "44a7b39501abb534",
   "outputs": [
    {
     "data": {
      "text/plain": [
       "       LAD23CD            LAD23NM           LAD23NMW   BNG_E   BNG_N     LONG  \\\n",
       "351  W06000014  Vale of Glamorgan      Bro Morgannwg  302947  173080 -3.39801   \n",
       "352  W06000015            Cardiff           Caerdydd  315272  178887 -3.22209   \n",
       "353  W06000016  Rhondda Cynon Taf  Rhondda Cynon Taf  302237  192395 -3.41359   \n",
       "354  W06000018         Caerphilly          Caerffili  317245  195259 -3.19753   \n",
       "355  W06000019      Blaenau Gwent      Blaenau Gwent  318236  206771 -3.18592   \n",
       "356  W06000020            Torfaen            Torfaen  327459  200480 -3.05101   \n",
       "357  W06000021      Monmouthshire          Sir Fynwy  337812  209231 -2.90280   \n",
       "358  W06000022            Newport          Casnewydd  337897  187432 -2.89769   \n",
       "359  W06000023              Powys              Powys  302329  273254 -3.43531   \n",
       "360  W06000024     Merthyr Tydfil     Merthyr Tudful  305916  206404 -3.36425   \n",
       "\n",
       "           LAT                                GlobalID  \\\n",
       "351  51.448360  {05A1595F-48EC-4DCD-9453-09932F8866BA}   \n",
       "352  51.502541  {C87A9884-2031-48AE-9D0E-4DEBCD93A637}   \n",
       "353  51.621849  {8C3EDA87-BEA6-4EBF-9B17-5D8378FA4EC9}   \n",
       "354  51.650009  {9E766644-A383-4E50-AAEE-4999B77E8F89}   \n",
       "355  51.753639  {0AC5960B-0E96-4E80-AEF5-6284A6440FA5}   \n",
       "356  51.698360  {BD77B33B-EBD3-4819-9088-F8445489E88E}   \n",
       "357  51.778271  {526A6B7B-5766-4DBB-B4C8-8538D7D4FFAF}   \n",
       "358  51.582310  {4261FC6C-EEAF-4585-91ED-C364EE4583AC}   \n",
       "359  52.348629  {53607F63-676A-4BD3-B061-FDF310584076}   \n",
       "360  51.748402  {7BBB1FE3-0C38-4B9A-83EF-D63EBE71C132}   \n",
       "\n",
       "                                              geometry  \n",
       "351  MULTIPOLYGON (((298807.697 180395.702, 298747....  \n",
       "352  MULTIPOLYGON (((319425.198 185266.897, 319405....  \n",
       "353  MULTIPOLYGON (((299563.802 215500.003, 299546....  \n",
       "354  MULTIPOLYGON (((310448.998 211550.104, 310441....  \n",
       "355  MULTIPOLYGON (((314548.401 213433.705, 314337....  \n",
       "356  MULTIPOLYGON (((323898.201 211287.499, 323892....  \n",
       "357  MULTIPOLYGON (((327828.949 231008.152, 327828 ...  \n",
       "358  MULTIPOLYGON (((342211.9 194845.495, 342199.79...  \n",
       "359  MULTIPOLYGON (((322392.901 334017.198, 322399....  \n",
       "360  MULTIPOLYGON (((303443.5 214995, 303443 214996...  "
      ],
      "text/html": [
       "<div>\n",
       "<style scoped>\n",
       "    .dataframe tbody tr th:only-of-type {\n",
       "        vertical-align: middle;\n",
       "    }\n",
       "\n",
       "    .dataframe tbody tr th {\n",
       "        vertical-align: top;\n",
       "    }\n",
       "\n",
       "    .dataframe thead th {\n",
       "        text-align: right;\n",
       "    }\n",
       "</style>\n",
       "<table border=\"1\" class=\"dataframe\">\n",
       "  <thead>\n",
       "    <tr style=\"text-align: right;\">\n",
       "      <th></th>\n",
       "      <th>LAD23CD</th>\n",
       "      <th>LAD23NM</th>\n",
       "      <th>LAD23NMW</th>\n",
       "      <th>BNG_E</th>\n",
       "      <th>BNG_N</th>\n",
       "      <th>LONG</th>\n",
       "      <th>LAT</th>\n",
       "      <th>GlobalID</th>\n",
       "      <th>geometry</th>\n",
       "    </tr>\n",
       "  </thead>\n",
       "  <tbody>\n",
       "    <tr>\n",
       "      <th>351</th>\n",
       "      <td>W06000014</td>\n",
       "      <td>Vale of Glamorgan</td>\n",
       "      <td>Bro Morgannwg</td>\n",
       "      <td>302947</td>\n",
       "      <td>173080</td>\n",
       "      <td>-3.39801</td>\n",
       "      <td>51.448360</td>\n",
       "      <td>{05A1595F-48EC-4DCD-9453-09932F8866BA}</td>\n",
       "      <td>MULTIPOLYGON (((298807.697 180395.702, 298747....</td>\n",
       "    </tr>\n",
       "    <tr>\n",
       "      <th>352</th>\n",
       "      <td>W06000015</td>\n",
       "      <td>Cardiff</td>\n",
       "      <td>Caerdydd</td>\n",
       "      <td>315272</td>\n",
       "      <td>178887</td>\n",
       "      <td>-3.22209</td>\n",
       "      <td>51.502541</td>\n",
       "      <td>{C87A9884-2031-48AE-9D0E-4DEBCD93A637}</td>\n",
       "      <td>MULTIPOLYGON (((319425.198 185266.897, 319405....</td>\n",
       "    </tr>\n",
       "    <tr>\n",
       "      <th>353</th>\n",
       "      <td>W06000016</td>\n",
       "      <td>Rhondda Cynon Taf</td>\n",
       "      <td>Rhondda Cynon Taf</td>\n",
       "      <td>302237</td>\n",
       "      <td>192395</td>\n",
       "      <td>-3.41359</td>\n",
       "      <td>51.621849</td>\n",
       "      <td>{8C3EDA87-BEA6-4EBF-9B17-5D8378FA4EC9}</td>\n",
       "      <td>MULTIPOLYGON (((299563.802 215500.003, 299546....</td>\n",
       "    </tr>\n",
       "    <tr>\n",
       "      <th>354</th>\n",
       "      <td>W06000018</td>\n",
       "      <td>Caerphilly</td>\n",
       "      <td>Caerffili</td>\n",
       "      <td>317245</td>\n",
       "      <td>195259</td>\n",
       "      <td>-3.19753</td>\n",
       "      <td>51.650009</td>\n",
       "      <td>{9E766644-A383-4E50-AAEE-4999B77E8F89}</td>\n",
       "      <td>MULTIPOLYGON (((310448.998 211550.104, 310441....</td>\n",
       "    </tr>\n",
       "    <tr>\n",
       "      <th>355</th>\n",
       "      <td>W06000019</td>\n",
       "      <td>Blaenau Gwent</td>\n",
       "      <td>Blaenau Gwent</td>\n",
       "      <td>318236</td>\n",
       "      <td>206771</td>\n",
       "      <td>-3.18592</td>\n",
       "      <td>51.753639</td>\n",
       "      <td>{0AC5960B-0E96-4E80-AEF5-6284A6440FA5}</td>\n",
       "      <td>MULTIPOLYGON (((314548.401 213433.705, 314337....</td>\n",
       "    </tr>\n",
       "    <tr>\n",
       "      <th>356</th>\n",
       "      <td>W06000020</td>\n",
       "      <td>Torfaen</td>\n",
       "      <td>Torfaen</td>\n",
       "      <td>327459</td>\n",
       "      <td>200480</td>\n",
       "      <td>-3.05101</td>\n",
       "      <td>51.698360</td>\n",
       "      <td>{BD77B33B-EBD3-4819-9088-F8445489E88E}</td>\n",
       "      <td>MULTIPOLYGON (((323898.201 211287.499, 323892....</td>\n",
       "    </tr>\n",
       "    <tr>\n",
       "      <th>357</th>\n",
       "      <td>W06000021</td>\n",
       "      <td>Monmouthshire</td>\n",
       "      <td>Sir Fynwy</td>\n",
       "      <td>337812</td>\n",
       "      <td>209231</td>\n",
       "      <td>-2.90280</td>\n",
       "      <td>51.778271</td>\n",
       "      <td>{526A6B7B-5766-4DBB-B4C8-8538D7D4FFAF}</td>\n",
       "      <td>MULTIPOLYGON (((327828.949 231008.152, 327828 ...</td>\n",
       "    </tr>\n",
       "    <tr>\n",
       "      <th>358</th>\n",
       "      <td>W06000022</td>\n",
       "      <td>Newport</td>\n",
       "      <td>Casnewydd</td>\n",
       "      <td>337897</td>\n",
       "      <td>187432</td>\n",
       "      <td>-2.89769</td>\n",
       "      <td>51.582310</td>\n",
       "      <td>{4261FC6C-EEAF-4585-91ED-C364EE4583AC}</td>\n",
       "      <td>MULTIPOLYGON (((342211.9 194845.495, 342199.79...</td>\n",
       "    </tr>\n",
       "    <tr>\n",
       "      <th>359</th>\n",
       "      <td>W06000023</td>\n",
       "      <td>Powys</td>\n",
       "      <td>Powys</td>\n",
       "      <td>302329</td>\n",
       "      <td>273254</td>\n",
       "      <td>-3.43531</td>\n",
       "      <td>52.348629</td>\n",
       "      <td>{53607F63-676A-4BD3-B061-FDF310584076}</td>\n",
       "      <td>MULTIPOLYGON (((322392.901 334017.198, 322399....</td>\n",
       "    </tr>\n",
       "    <tr>\n",
       "      <th>360</th>\n",
       "      <td>W06000024</td>\n",
       "      <td>Merthyr Tydfil</td>\n",
       "      <td>Merthyr Tudful</td>\n",
       "      <td>305916</td>\n",
       "      <td>206404</td>\n",
       "      <td>-3.36425</td>\n",
       "      <td>51.748402</td>\n",
       "      <td>{7BBB1FE3-0C38-4B9A-83EF-D63EBE71C132}</td>\n",
       "      <td>MULTIPOLYGON (((303443.5 214995, 303443 214996...</td>\n",
       "    </tr>\n",
       "  </tbody>\n",
       "</table>\n",
       "</div>"
      ]
     },
     "execution_count": 8,
     "metadata": {},
     "output_type": "execute_result"
    }
   ],
   "execution_count": 8
  },
  {
   "metadata": {
    "ExecuteTime": {
     "end_time": "2025-03-14T00:51:34.898299Z",
     "start_time": "2025-03-14T00:51:34.885568Z"
    }
   },
   "cell_type": "code",
   "source": "birmingham = os_boundaries[os_boundaries[\"LAD23NM\"].str.contains(\"Birmingham\")]",
   "id": "afb97ea981bc85d6",
   "outputs": [],
   "execution_count": 11
  },
  {
   "metadata": {
    "ExecuteTime": {
     "end_time": "2025-03-14T00:52:10.184044Z",
     "start_time": "2025-03-14T00:52:09.457082Z"
    }
   },
   "cell_type": "code",
   "source": "birmingham.plot(figsize=(8, 8))",
   "id": "482702d73d4dfe60",
   "outputs": [
    {
     "data": {
      "text/plain": [
       "<Axes: >"
      ]
     },
     "execution_count": 12,
     "metadata": {},
     "output_type": "execute_result"
    },
    {
     "data": {
      "text/plain": [
       "<Figure size 800x800 with 1 Axes>"
      ],
      "image/png": "[encoded data removed]"
     },
     "metadata": {},
     "output_type": "display_data"
    }
   ],
   "execution_count": 12
  }
 ],
 "metadata": {
  "kernelspec": {
   "display_name": "Python 3",
   "language": "python",
   "name": "python3"
  },
  "language_info": {
   "codemirror_mode": {
    "name": "ipython",
    "version": 2
   },
   "file_extension": ".py",
   "mimetype": "text/x-python",
   "name": "python",
   "nbconvert_exporter": "python",
   "pygments_lexer": "ipython2",
   "version": "2.7.6"
  }
 },
 "nbformat": 4,
 "nbformat_minor": 5
}

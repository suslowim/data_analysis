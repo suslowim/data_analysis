{
 "cells": [
  {
   "cell_type": "code",
   "id": "initial_id",
   "metadata": {
    "collapsed": true,
    "ExecuteTime": {
     "end_time": "2025-03-09T18:48:54.735749Z",
     "start_time": "2025-03-09T18:48:54.612609Z"
    }
   },
   "source": [
    "from pathlib import Path\n",
    "\n",
    "import polars as pl"
   ],
   "outputs": [],
   "execution_count": 1
  },
  {
   "metadata": {
    "ExecuteTime": {
     "end_time": "2025-03-09T19:01:51.896253Z",
     "start_time": "2025-03-09T19:01:20.766720Z"
    }
   },
   "cell_type": "code",
   "source": [
    "path_pp = Path.cwd() / \"data\" / \"csv\" / \"price_paid\" / \"pp_202304.csv\"\n",
    "pp_schema = pl.Schema(\n",
    "    {\n",
    "        \"tuid\": pl.String(),\n",
    "        \"price\": pl.Int64(),\n",
    "        \"transfer_date\": pl.Datetime(),\n",
    "        \"postcode\": pl.String(),\n",
    "        # Presumably Terraced, Flat, O-something?, Semi-detached, Detached\n",
    "        \"type\": pl.Enum(categories=[\"T\", \"F\", \"O\", \"S\", \"D\"]),\n",
    "        \"is_new_build\": pl.Enum(categories=[\"Y\", \"N\"]),\n",
    "        # Presumably Freehold, Leasehold, Unclassified\n",
    "        \"duration\": pl.Enum(categories=[\"F\", \"L\", \"U\"]),\n",
    "        \"street_number\": pl.String(),\n",
    "        \"flat_number\": pl.String(),\n",
    "        \"street\": pl.String(),\n",
    "        \"locality\": pl.String(),\n",
    "        \"town\": pl.String(),\n",
    "        \"district\": pl.String(),\n",
    "        \"county\": pl.String(),\n",
    "        \"category_type\": pl.String(),\n",
    "        \"record_status\": pl.String()\n",
    "    }\n",
    ")\n",
    "pp = pl.scan_csv(path_pp, schema=pp_schema)\n",
    "pp.collect().write_parquet(Path.cwd() / \"data\" / \"parquet\" / \"price_paid.parquet\")"
   ],
   "id": "a62aba259dea343e",
   "outputs": [],
   "execution_count": 6
  },
  {
   "metadata": {
    "ExecuteTime": {
     "end_time": "2025-03-09T18:34:58.729162Z",
     "start_time": "2025-03-09T18:34:58.590400Z"
    }
   },
   "cell_type": "code",
   "source": [
    "path_postcodes = Path.cwd() / \"data\" / \"csv\" / \"ukpostcodes\" / \"open_postcode_geo.csv\"\n",
    "schema_postcodes = pl.Schema({\n",
    "    \"postcode\": pl.String(),\n",
    "    \"live_or_terminated\": pl.Categorical(),\n",
    "    \"size\": pl.Categorical(),\n",
    "    \"easting\": pl.Int64(),\n",
    "    \"northing\": pl.Int64(),\n",
    "    \"positional_quality\": pl.Int8(),\n",
    "    \"country\": pl.Categorical(),\n",
    "    \"latitude\": pl.Float64(),\n",
    "    \"longitude\": pl.Float64(),\n",
    "    \"postcode_no_spaces\": pl.String(),\n",
    "    \"postcode_unit\": pl.String(),\n",
    "    \"postcode_2_spaces\": pl.String(),\n",
    "    \"postcode_area\": pl.String(),\n",
    "    \"postcode_district\": pl.String(),\n",
    "    \"postcode_sector\": pl.String(),\n",
    "    \"postcode_first_half\": pl.String(),\n",
    "    \"postcode_second_half\": pl.String(),\n",
    "})\n",
    "postcodes = pl.scan_csv(path_postcodes, schema=schema_postcodes, ignore_errors=True)\n",
    "postcodes.tail(100).collect()\n"
   ],
   "id": "4a66933969ac50c5",
   "outputs": [
    {
     "data": {
      "text/plain": [
       "shape: (100, 17)\n",
       "┌──────────┬─────────────┬───────┬─────────┬───┬────────────┬────────────┬────────────┬────────────┐\n",
       "│ postcode ┆ live_or_ter ┆ size  ┆ easting ┆ … ┆ postcode_d ┆ postcode_s ┆ postcode_f ┆ postcode_s │\n",
       "│ ---      ┆ minated     ┆ ---   ┆ ---     ┆   ┆ istrict    ┆ ector      ┆ irst_half  ┆ econd_half │\n",
       "│ str      ┆ ---         ┆ cat   ┆ i64     ┆   ┆ ---        ┆ ---        ┆ ---        ┆ ---        │\n",
       "│          ┆ cat         ┆       ┆         ┆   ┆ str        ┆ str        ┆ str        ┆ str        │\n",
       "╞══════════╪═════════════╪═══════╪═════════╪═══╪════════════╪════════════╪════════════╪════════════╡\n",
       "│ ZE2 9SR  ┆ live        ┆ small ┆ 435967  ┆ … ┆ ZE2        ┆ ZE2 9      ┆ ZE2        ┆ 9SR        │\n",
       "│ ZE2 9SS  ┆ live        ┆ small ┆ 436001  ┆ … ┆ ZE2        ┆ ZE2 9      ┆ ZE2        ┆ 9SS        │\n",
       "│ ZE2 9ST  ┆ live        ┆ small ┆ 435909  ┆ … ┆ ZE2        ┆ ZE2 9      ┆ ZE2        ┆ 9ST        │\n",
       "│ ZE2 9SU  ┆ live        ┆ small ┆ 435891  ┆ … ┆ ZE2        ┆ ZE2 9      ┆ ZE2        ┆ 9SU        │\n",
       "│ ZE2 9SW  ┆ live        ┆ small ┆ 435913  ┆ … ┆ ZE2        ┆ ZE2 9      ┆ ZE2        ┆ 9SW        │\n",
       "│ …        ┆ …           ┆ …     ┆ …       ┆ … ┆ …          ┆ …          ┆ …          ┆ …          │\n",
       "│ ZE3 9JW  ┆ live        ┆ small ┆ 438975  ┆ … ┆ ZE3        ┆ ZE3 9      ┆ ZE3        ┆ 9JW        │\n",
       "│ ZE3 9JX  ┆ live        ┆ small ┆ 438872  ┆ … ┆ ZE3        ┆ ZE3 9      ┆ ZE3        ┆ 9JX        │\n",
       "│ ZE3 9JY  ┆ live        ┆ small ┆ 438498  ┆ … ┆ ZE3        ┆ ZE3 9      ┆ ZE3        ┆ 9JY        │\n",
       "│ ZE3 9JZ  ┆ live        ┆ small ┆ 438662  ┆ … ┆ ZE3        ┆ ZE3 9      ┆ ZE3        ┆ 9JZ        │\n",
       "│ ZE3 9XP  ┆ terminated  ┆ large ┆ 438854  ┆ … ┆ ZE3        ┆ ZE3 9      ┆ ZE3        ┆ 9XP        │\n",
       "└──────────┴─────────────┴───────┴─────────┴───┴────────────┴────────────┴────────────┴────────────┘"
      ],
      "text/html": [
       "<div><style>\n",
       ".dataframe > thead > tr,\n",
       ".dataframe > tbody > tr {\n",
       "  text-align: right;\n",
       "  white-space: pre-wrap;\n",
       "}\n",
       "</style>\n",
       "<small>shape: (100, 17)</small><table border=\"1\" class=\"dataframe\"><thead><tr><th>postcode</th><th>live_or_terminated</th><th>size</th><th>easting</th><th>northing</th><th>tbd</th><th>country</th><th>latitude</th><th>longitude</th><th>postcode_no_spaces</th><th>postcode_unit</th><th>postcode_2_spaces</th><th>postcode_area</th><th>postcode_district</th><th>postcode_sector</th><th>postcode_first_half</th><th>postcode_second_half</th></tr><tr><td>str</td><td>cat</td><td>cat</td><td>i64</td><td>i64</td><td>i8</td><td>cat</td><td>f64</td><td>f64</td><td>str</td><td>str</td><td>str</td><td>str</td><td>str</td><td>str</td><td>str</td><td>str</td></tr></thead><tbody><tr><td>&quot;ZE2 9SR&quot;</td><td>&quot;live&quot;</td><td>&quot;small&quot;</td><td>435967</td><td>1168443</td><td>1</td><td>&quot;Scotland&quot;</td><td>60.398298</td><td>-1.349144</td><td>&quot;ZE29SR&quot;</td><td>&quot;ZE2 9SR&quot;</td><td>&quot;ZE2&nbsp;&nbsp;9SR&quot;</td><td>&quot;ZE&quot;</td><td>&quot;ZE2&quot;</td><td>&quot;ZE2 9&quot;</td><td>&quot;ZE2&quot;</td><td>&quot;9SR&quot;</td></tr><tr><td>&quot;ZE2 9SS&quot;</td><td>&quot;live&quot;</td><td>&quot;small&quot;</td><td>436001</td><td>1168415</td><td>1</td><td>&quot;Scotland&quot;</td><td>60.398043</td><td>-1.348532</td><td>&quot;ZE29SS&quot;</td><td>&quot;ZE2 9SS&quot;</td><td>&quot;ZE2&nbsp;&nbsp;9SS&quot;</td><td>&quot;ZE&quot;</td><td>&quot;ZE2&quot;</td><td>&quot;ZE2 9&quot;</td><td>&quot;ZE2&quot;</td><td>&quot;9SS&quot;</td></tr><tr><td>&quot;ZE2 9ST&quot;</td><td>&quot;live&quot;</td><td>&quot;small&quot;</td><td>435909</td><td>1168431</td><td>1</td><td>&quot;Scotland&quot;</td><td>60.398195</td><td>-1.350198</td><td>&quot;ZE29ST&quot;</td><td>&quot;ZE2 9ST&quot;</td><td>&quot;ZE2&nbsp;&nbsp;9ST&quot;</td><td>&quot;ZE&quot;</td><td>&quot;ZE2&quot;</td><td>&quot;ZE2 9&quot;</td><td>&quot;ZE2&quot;</td><td>&quot;9ST&quot;</td></tr><tr><td>&quot;ZE2 9SU&quot;</td><td>&quot;live&quot;</td><td>&quot;small&quot;</td><td>435891</td><td>1168377</td><td>1</td><td>&quot;Scotland&quot;</td><td>60.397712</td><td>-1.350535</td><td>&quot;ZE29SU&quot;</td><td>&quot;ZE2 9SU&quot;</td><td>&quot;ZE2&nbsp;&nbsp;9SU&quot;</td><td>&quot;ZE&quot;</td><td>&quot;ZE2&quot;</td><td>&quot;ZE2 9&quot;</td><td>&quot;ZE2&quot;</td><td>&quot;9SU&quot;</td></tr><tr><td>&quot;ZE2 9SW&quot;</td><td>&quot;live&quot;</td><td>&quot;small&quot;</td><td>435913</td><td>1168617</td><td>1</td><td>&quot;Scotland&quot;</td><td>60.399865</td><td>-1.350093</td><td>&quot;ZE29SW&quot;</td><td>&quot;ZE2 9SW&quot;</td><td>&quot;ZE2&nbsp;&nbsp;9SW&quot;</td><td>&quot;ZE&quot;</td><td>&quot;ZE2&quot;</td><td>&quot;ZE2 9&quot;</td><td>&quot;ZE2&quot;</td><td>&quot;9SW&quot;</td></tr><tr><td>&hellip;</td><td>&hellip;</td><td>&hellip;</td><td>&hellip;</td><td>&hellip;</td><td>&hellip;</td><td>&hellip;</td><td>&hellip;</td><td>&hellip;</td><td>&hellip;</td><td>&hellip;</td><td>&hellip;</td><td>&hellip;</td><td>&hellip;</td><td>&hellip;</td><td>&hellip;</td><td>&hellip;</td></tr><tr><td>&quot;ZE3 9JW&quot;</td><td>&quot;live&quot;</td><td>&quot;small&quot;</td><td>438975</td><td>1110038</td><td>1</td><td>&quot;Scotland&quot;</td><td>59.873651</td><td>-1.305697</td><td>&quot;ZE39JW&quot;</td><td>&quot;ZE3 9JW&quot;</td><td>&quot;ZE3&nbsp;&nbsp;9JW&quot;</td><td>&quot;ZE&quot;</td><td>&quot;ZE3&quot;</td><td>&quot;ZE3 9&quot;</td><td>&quot;ZE3&quot;</td><td>&quot;9JW&quot;</td></tr><tr><td>&quot;ZE3 9JX&quot;</td><td>&quot;live&quot;</td><td>&quot;small&quot;</td><td>438872</td><td>1110219</td><td>1</td><td>&quot;Scotland&quot;</td><td>59.875286</td><td>-1.307502</td><td>&quot;ZE39JX&quot;</td><td>&quot;ZE3 9JX&quot;</td><td>&quot;ZE3&nbsp;&nbsp;9JX&quot;</td><td>&quot;ZE&quot;</td><td>&quot;ZE3&quot;</td><td>&quot;ZE3 9&quot;</td><td>&quot;ZE3&quot;</td><td>&quot;9JX&quot;</td></tr><tr><td>&quot;ZE3 9JY&quot;</td><td>&quot;live&quot;</td><td>&quot;small&quot;</td><td>438498</td><td>1112029</td><td>1</td><td>&quot;Scotland&quot;</td><td>59.891572</td><td>-1.313847</td><td>&quot;ZE39JY&quot;</td><td>&quot;ZE3 9JY&quot;</td><td>&quot;ZE3&nbsp;&nbsp;9JY&quot;</td><td>&quot;ZE&quot;</td><td>&quot;ZE3&quot;</td><td>&quot;ZE3 9&quot;</td><td>&quot;ZE3&quot;</td><td>&quot;9JY&quot;</td></tr><tr><td>&quot;ZE3 9JZ&quot;</td><td>&quot;live&quot;</td><td>&quot;small&quot;</td><td>438662</td><td>1112122</td><td>1</td><td>&quot;Scotland&quot;</td><td>59.892392</td><td>-1.310899</td><td>&quot;ZE39JZ&quot;</td><td>&quot;ZE3 9JZ&quot;</td><td>&quot;ZE3&nbsp;&nbsp;9JZ&quot;</td><td>&quot;ZE&quot;</td><td>&quot;ZE3&quot;</td><td>&quot;ZE3 9&quot;</td><td>&quot;ZE3&quot;</td><td>&quot;9JZ&quot;</td></tr><tr><td>&quot;ZE3 9XP&quot;</td><td>&quot;terminated&quot;</td><td>&quot;large&quot;</td><td>438854</td><td>1111535</td><td>8</td><td>&quot;Scotland&quot;</td><td>59.887104</td><td>-1.307578</td><td>&quot;ZE39XP&quot;</td><td>&quot;ZE3 9XP&quot;</td><td>&quot;ZE3&nbsp;&nbsp;9XP&quot;</td><td>&quot;ZE&quot;</td><td>&quot;ZE3&quot;</td><td>&quot;ZE3 9&quot;</td><td>&quot;ZE3&quot;</td><td>&quot;9XP&quot;</td></tr></tbody></table></div>"
      ]
     },
     "execution_count": 23,
     "metadata": {},
     "output_type": "execute_result"
    }
   ],
   "execution_count": 23
  },
  {
   "metadata": {
    "ExecuteTime": {
     "end_time": "2025-03-09T18:36:37.465493Z",
     "start_time": "2025-03-09T18:36:37.374533Z"
    }
   },
   "cell_type": "code",
   "source": "postcodes.select(\"size\").unique().collect()",
   "id": "dc1f63d2c150259d",
   "outputs": [
    {
     "data": {
      "text/plain": [
       "shape: (2, 1)\n",
       "┌───────┐\n",
       "│ size  │\n",
       "│ ---   │\n",
       "│ cat   │\n",
       "╞═══════╡\n",
       "│ small │\n",
       "│ large │\n",
       "└───────┘"
      ],
      "text/html": [
       "<div><style>\n",
       ".dataframe > thead > tr,\n",
       ".dataframe > tbody > tr {\n",
       "  text-align: right;\n",
       "  white-space: pre-wrap;\n",
       "}\n",
       "</style>\n",
       "<small>shape: (2, 1)</small><table border=\"1\" class=\"dataframe\"><thead><tr><th>size</th></tr><tr><td>cat</td></tr></thead><tbody><tr><td>&quot;small&quot;</td></tr><tr><td>&quot;large&quot;</td></tr></tbody></table></div>"
      ]
     },
     "execution_count": 24,
     "metadata": {},
     "output_type": "execute_result"
    }
   ],
   "execution_count": 24
  },
  {
   "metadata": {
    "ExecuteTime": {
     "end_time": "2025-03-09T18:20:40.379292Z",
     "start_time": "2025-03-09T18:20:38.950484Z"
    }
   },
   "cell_type": "code",
   "source": [
    "(\n",
    "    pp.filter(\n",
    "        (pl.col(\"street\").str.contains(\"CONEY GREEN DRIVE\"))\n",
    "        & (pl.col(\"street_number\") == \"1\")\n",
    "    )\n",
    "    .sort(by=\"street_number\")\n",
    "    .sort(by=\"transfer_date\")\n",
    "    .collect()\n",
    " )"
   ],
   "id": "edd917388a4a3840",
   "outputs": [
    {
     "data": {
      "text/plain": [
       "shape: (0, 16)\n",
       "┌──────┬───────┬───────────────┬──────────┬───┬──────────┬────────┬───────────────┬───────────────┐\n",
       "│ tuid ┆ price ┆ transfer_date ┆ postcode ┆ … ┆ district ┆ county ┆ category_type ┆ record_status │\n",
       "│ ---  ┆ ---   ┆ ---           ┆ ---      ┆   ┆ ---      ┆ ---    ┆ ---           ┆ ---           │\n",
       "│ str  ┆ i64   ┆ datetime[μs]  ┆ str      ┆   ┆ str      ┆ str    ┆ str           ┆ str           │\n",
       "╞══════╪═══════╪═══════════════╪══════════╪═══╪══════════╪════════╪═══════════════╪═══════════════╡\n",
       "└──────┴───────┴───────────────┴──────────┴───┴──────────┴────────┴───────────────┴───────────────┘"
      ],
      "text/html": [
       "<div><style>\n",
       ".dataframe > thead > tr,\n",
       ".dataframe > tbody > tr {\n",
       "  text-align: right;\n",
       "  white-space: pre-wrap;\n",
       "}\n",
       "</style>\n",
       "<small>shape: (0, 16)</small><table border=\"1\" class=\"dataframe\"><thead><tr><th>tuid</th><th>price</th><th>transfer_date</th><th>postcode</th><th>type</th><th>age</th><th>duration</th><th>street_number</th><th>flat_number</th><th>street</th><th>locality</th><th>town</th><th>district</th><th>county</th><th>category_type</th><th>record_status</th></tr><tr><td>str</td><td>i64</td><td>datetime[μs]</td><td>str</td><td>str</td><td>str</td><td>str</td><td>str</td><td>str</td><td>str</td><td>str</td><td>str</td><td>str</td><td>str</td><td>str</td><td>str</td></tr></thead><tbody></tbody></table></div>"
      ]
     },
     "execution_count": 11,
     "metadata": {},
     "output_type": "execute_result"
    }
   ],
   "execution_count": 11
  },
  {
   "metadata": {
    "ExecuteTime": {
     "end_time": "2025-03-09T18:39:31.074308Z",
     "start_time": "2025-03-09T18:39:27.137098Z"
    }
   },
   "cell_type": "code",
   "source": [
    "(\n",
    "    pp\n",
    "    .join(\n",
    "        postcodes,\n",
    "        on=\"postcode\",\n",
    "        how=\"left\",\n",
    "    )\n",
    "    .filter(\n",
    "        pl.col(\"postcode_sector\") == \"B31 4\"\n",
    "    )\n",
    "    .collect()\n",
    ")"
   ],
   "id": "860216e916dff852",
   "outputs": [
    {
     "data": {
      "text/plain": [
       "shape: (4_032, 32)\n",
       "┌────────────┬────────┬────────────┬──────────┬───┬────────────┬───────────┬───────────┬───────────┐\n",
       "│ tuid       ┆ price  ┆ transfer_d ┆ postcode ┆ … ┆ postcode_d ┆ postcode_ ┆ postcode_ ┆ postcode_ │\n",
       "│ ---        ┆ ---    ┆ ate        ┆ ---      ┆   ┆ istrict    ┆ sector    ┆ first_hal ┆ second_ha │\n",
       "│ str        ┆ i64    ┆ ---        ┆ str      ┆   ┆ ---        ┆ ---       ┆ f         ┆ lf        │\n",
       "│            ┆        ┆ datetime[μ ┆          ┆   ┆ str        ┆ str       ┆ ---       ┆ ---       │\n",
       "│            ┆        ┆ s]         ┆          ┆   ┆            ┆           ┆ str       ┆ str       │\n",
       "╞════════════╪════════╪════════════╪══════════╪═══╪════════════╪═══════════╪═══════════╪═══════════╡\n",
       "│ {C0D5C5BB- ┆ 45000  ┆ 1995-05-26 ┆ B31 4TH  ┆ … ┆ B31        ┆ B31 4     ┆ B31       ┆ 4TH       │\n",
       "│ 7771-4E1C- ┆        ┆ 00:00:00   ┆          ┆   ┆            ┆           ┆           ┆           │\n",
       "│ 9170-83B9E ┆        ┆            ┆          ┆   ┆            ┆           ┆           ┆           │\n",
       "│ …          ┆        ┆            ┆          ┆   ┆            ┆           ┆           ┆           │\n",
       "│ {C4CA46FD- ┆ 42950  ┆ 1995-07-14 ┆ B31 4RY  ┆ … ┆ B31        ┆ B31 4     ┆ B31       ┆ 4RY       │\n",
       "│ C8D3-49AA- ┆        ┆ 00:00:00   ┆          ┆   ┆            ┆           ┆           ┆           │\n",
       "│ B607-8ACD2 ┆        ┆            ┆          ┆   ┆            ┆           ┆           ┆           │\n",
       "│ …          ┆        ┆            ┆          ┆   ┆            ┆           ┆           ┆           │\n",
       "│ {E2C98286- ┆ 36000  ┆ 1995-08-25 ┆ B31 4RY  ┆ … ┆ B31        ┆ B31 4     ┆ B31       ┆ 4RY       │\n",
       "│ 0601-4ECD- ┆        ┆ 00:00:00   ┆          ┆   ┆            ┆           ┆           ┆           │\n",
       "│ AE6B-921BE ┆        ┆            ┆          ┆   ┆            ┆           ┆           ┆           │\n",
       "│ …          ┆        ┆            ┆          ┆   ┆            ┆           ┆           ┆           │\n",
       "│ {6D0CA1F2- ┆ 47500  ┆ 1995-06-06 ┆ B31 4RU  ┆ … ┆ B31        ┆ B31 4     ┆ B31       ┆ 4RU       │\n",
       "│ 6186-4465- ┆        ┆ 00:00:00   ┆          ┆   ┆            ┆           ┆           ┆           │\n",
       "│ 8F10-FA58E ┆        ┆            ┆          ┆   ┆            ┆           ┆           ┆           │\n",
       "│ …          ┆        ┆            ┆          ┆   ┆            ┆           ┆           ┆           │\n",
       "│ {0979AEE7- ┆ 40000  ┆ 1995-07-31 ┆ B31 4PB  ┆ … ┆ B31        ┆ B31 4     ┆ B31       ┆ 4PB       │\n",
       "│ 7016-4570- ┆        ┆ 00:00:00   ┆          ┆   ┆            ┆           ┆           ┆           │\n",
       "│ 92B3-F6E52 ┆        ┆            ┆          ┆   ┆            ┆           ┆           ┆           │\n",
       "│ …          ┆        ┆            ┆          ┆   ┆            ┆           ┆           ┆           │\n",
       "│ …          ┆ …      ┆ …          ┆ …        ┆ … ┆ …          ┆ …         ┆ …         ┆ …         │\n",
       "│ {F87E72F9- ┆ 185000 ┆ 2023-03-01 ┆ B31 4EL  ┆ … ┆ B31        ┆ B31 4     ┆ B31       ┆ 4EL       │\n",
       "│ 9BED-176C- ┆        ┆ 00:00:00   ┆          ┆   ┆            ┆           ┆           ┆           │\n",
       "│ E053-6B04A ┆        ┆            ┆          ┆   ┆            ┆           ┆           ┆           │\n",
       "│ …          ┆        ┆            ┆          ┆   ┆            ┆           ┆           ┆           │\n",
       "│ {F87E72F9- ┆ 90000  ┆ 2023-02-10 ┆ B31 4SX  ┆ … ┆ B31        ┆ B31 4     ┆ B31       ┆ 4SX       │\n",
       "│ 9493-176C- ┆        ┆ 00:00:00   ┆          ┆   ┆            ┆           ┆           ┆           │\n",
       "│ E053-6B04A ┆        ┆            ┆          ┆   ┆            ┆           ┆           ┆           │\n",
       "│ …          ┆        ┆            ┆          ┆   ┆            ┆           ┆           ┆           │\n",
       "│ {F87E72F9- ┆ 350000 ┆ 2023-03-03 ┆ B31 4RE  ┆ … ┆ B31        ┆ B31 4     ┆ B31       ┆ 4RE       │\n",
       "│ 9951-176C- ┆        ┆ 00:00:00   ┆          ┆   ┆            ┆           ┆           ┆           │\n",
       "│ E053-6B04A ┆        ┆            ┆          ┆   ┆            ┆           ┆           ┆           │\n",
       "│ …          ┆        ┆            ┆          ┆   ┆            ┆           ┆           ┆           │\n",
       "│ {F87E72F9- ┆ 141000 ┆ 2023-03-01 ┆ B31 4QF  ┆ … ┆ B31        ┆ B31 4     ┆ B31       ┆ 4QF       │\n",
       "│ A000-176C- ┆        ┆ 00:00:00   ┆          ┆   ┆            ┆           ┆           ┆           │\n",
       "│ E053-6B04A ┆        ┆            ┆          ┆   ┆            ┆           ┆           ┆           │\n",
       "│ …          ┆        ┆            ┆          ┆   ┆            ┆           ┆           ┆           │\n",
       "│ {F87E72F9- ┆ 248000 ┆ 2023-02-27 ┆ B31 4HB  ┆ … ┆ B31        ┆ B31 4     ┆ B31       ┆ 4HB       │\n",
       "│ 9D6D-176C- ┆        ┆ 00:00:00   ┆          ┆   ┆            ┆           ┆           ┆           │\n",
       "│ E053-6B04A ┆        ┆            ┆          ┆   ┆            ┆           ┆           ┆           │\n",
       "│ …          ┆        ┆            ┆          ┆   ┆            ┆           ┆           ┆           │\n",
       "└────────────┴────────┴────────────┴──────────┴───┴────────────┴───────────┴───────────┴───────────┘"
      ],
      "text/html": [
       "<div><style>\n",
       ".dataframe > thead > tr,\n",
       ".dataframe > tbody > tr {\n",
       "  text-align: right;\n",
       "  white-space: pre-wrap;\n",
       "}\n",
       "</style>\n",
       "<small>shape: (4_032, 32)</small><table border=\"1\" class=\"dataframe\"><thead><tr><th>tuid</th><th>price</th><th>transfer_date</th><th>postcode</th><th>type</th><th>age</th><th>duration</th><th>street_number</th><th>flat_number</th><th>street</th><th>locality</th><th>town</th><th>district</th><th>county</th><th>category_type</th><th>record_status</th><th>live_or_terminated</th><th>size</th><th>easting</th><th>northing</th><th>tbd</th><th>country</th><th>latitude</th><th>longitude</th><th>postcode_no_spaces</th><th>postcode_unit</th><th>postcode_2_spaces</th><th>postcode_area</th><th>postcode_district</th><th>postcode_sector</th><th>postcode_first_half</th><th>postcode_second_half</th></tr><tr><td>str</td><td>i64</td><td>datetime[μs]</td><td>str</td><td>str</td><td>str</td><td>str</td><td>str</td><td>str</td><td>str</td><td>str</td><td>str</td><td>str</td><td>str</td><td>str</td><td>str</td><td>cat</td><td>cat</td><td>i64</td><td>i64</td><td>i8</td><td>cat</td><td>f64</td><td>f64</td><td>str</td><td>str</td><td>str</td><td>str</td><td>str</td><td>str</td><td>str</td><td>str</td></tr></thead><tbody><tr><td>&quot;{C0D5C5BB-7771-4E1C-9170-83B9E…</td><td>45000</td><td>1995-05-26 00:00:00</td><td>&quot;B31 4TH&quot;</td><td>&quot;S&quot;</td><td>&quot;N&quot;</td><td>&quot;L&quot;</td><td>&quot;99&quot;</td><td>&quot;&quot;</td><td>&quot;NUTHURST ROAD&quot;</td><td>&quot;BIRMINGHAM&quot;</td><td>&quot;BIRMINGHAM&quot;</td><td>&quot;BIRMINGHAM&quot;</td><td>&quot;WEST MIDLANDS&quot;</td><td>&quot;A&quot;</td><td>&quot;A&quot;</td><td>&quot;live&quot;</td><td>&quot;small&quot;</td><td>402084</td><td>276999</td><td>1</td><td>&quot;England&quot;</td><td>52.391011</td><td>-1.970802</td><td>&quot;B314TH&quot;</td><td>&quot;B31 4TH&quot;</td><td>&quot;B31&nbsp;&nbsp;4TH&quot;</td><td>&quot;B&quot;</td><td>&quot;B31&quot;</td><td>&quot;B31 4&quot;</td><td>&quot;B31&quot;</td><td>&quot;4TH&quot;</td></tr><tr><td>&quot;{C4CA46FD-C8D3-49AA-B607-8ACD2…</td><td>42950</td><td>1995-07-14 00:00:00</td><td>&quot;B31 4RY&quot;</td><td>&quot;S&quot;</td><td>&quot;N&quot;</td><td>&quot;F&quot;</td><td>&quot;1&quot;</td><td>&quot;&quot;</td><td>&quot;DITTON GROVE&quot;</td><td>&quot;BIRMINGHAM&quot;</td><td>&quot;BIRMINGHAM&quot;</td><td>&quot;BIRMINGHAM&quot;</td><td>&quot;WEST MIDLANDS&quot;</td><td>&quot;A&quot;</td><td>&quot;A&quot;</td><td>&quot;live&quot;</td><td>&quot;small&quot;</td><td>401733</td><td>276852</td><td>1</td><td>&quot;England&quot;</td><td>52.389691</td><td>-1.97596</td><td>&quot;B314RY&quot;</td><td>&quot;B31 4RY&quot;</td><td>&quot;B31&nbsp;&nbsp;4RY&quot;</td><td>&quot;B&quot;</td><td>&quot;B31&quot;</td><td>&quot;B31 4&quot;</td><td>&quot;B31&quot;</td><td>&quot;4RY&quot;</td></tr><tr><td>&quot;{E2C98286-0601-4ECD-AE6B-921BE…</td><td>36000</td><td>1995-08-25 00:00:00</td><td>&quot;B31 4RY&quot;</td><td>&quot;S&quot;</td><td>&quot;N&quot;</td><td>&quot;L&quot;</td><td>&quot;2&quot;</td><td>&quot;&quot;</td><td>&quot;DITTON GROVE&quot;</td><td>&quot;BIRMINGHAM&quot;</td><td>&quot;BIRMINGHAM&quot;</td><td>&quot;BIRMINGHAM&quot;</td><td>&quot;WEST MIDLANDS&quot;</td><td>&quot;A&quot;</td><td>&quot;A&quot;</td><td>&quot;live&quot;</td><td>&quot;small&quot;</td><td>401733</td><td>276852</td><td>1</td><td>&quot;England&quot;</td><td>52.389691</td><td>-1.97596</td><td>&quot;B314RY&quot;</td><td>&quot;B31 4RY&quot;</td><td>&quot;B31&nbsp;&nbsp;4RY&quot;</td><td>&quot;B&quot;</td><td>&quot;B31&quot;</td><td>&quot;B31 4&quot;</td><td>&quot;B31&quot;</td><td>&quot;4RY&quot;</td></tr><tr><td>&quot;{6D0CA1F2-6186-4465-8F10-FA58E…</td><td>47500</td><td>1995-06-06 00:00:00</td><td>&quot;B31 4RU&quot;</td><td>&quot;T&quot;</td><td>&quot;N&quot;</td><td>&quot;F&quot;</td><td>&quot;125&quot;</td><td>&quot;&quot;</td><td>&quot;KINGSWOOD ROAD&quot;</td><td>&quot;NORTHFIELD&quot;</td><td>&quot;BIRMINGHAM&quot;</td><td>&quot;BIRMINGHAM&quot;</td><td>&quot;WEST MIDLANDS&quot;</td><td>&quot;A&quot;</td><td>&quot;A&quot;</td><td>&quot;live&quot;</td><td>&quot;small&quot;</td><td>401751</td><td>276981</td><td>1</td><td>&quot;England&quot;</td><td>52.390851</td><td>-1.975695</td><td>&quot;B314RU&quot;</td><td>&quot;B31 4RU&quot;</td><td>&quot;B31&nbsp;&nbsp;4RU&quot;</td><td>&quot;B&quot;</td><td>&quot;B31&quot;</td><td>&quot;B31 4&quot;</td><td>&quot;B31&quot;</td><td>&quot;4RU&quot;</td></tr><tr><td>&quot;{0979AEE7-7016-4570-92B3-F6E52…</td><td>40000</td><td>1995-07-31 00:00:00</td><td>&quot;B31 4PB&quot;</td><td>&quot;T&quot;</td><td>&quot;N&quot;</td><td>&quot;F&quot;</td><td>&quot;45&quot;</td><td>&quot;&quot;</td><td>&quot;CROWHURST ROAD&quot;</td><td>&quot;BIRMINGHAM&quot;</td><td>&quot;BIRMINGHAM&quot;</td><td>&quot;BIRMINGHAM&quot;</td><td>&quot;WEST MIDLANDS&quot;</td><td>&quot;A&quot;</td><td>&quot;A&quot;</td><td>&quot;live&quot;</td><td>&quot;small&quot;</td><td>401409</td><td>277073</td><td>1</td><td>&quot;England&quot;</td><td>52.391679</td><td>-1.98072</td><td>&quot;B314PB&quot;</td><td>&quot;B31 4PB&quot;</td><td>&quot;B31&nbsp;&nbsp;4PB&quot;</td><td>&quot;B&quot;</td><td>&quot;B31&quot;</td><td>&quot;B31 4&quot;</td><td>&quot;B31&quot;</td><td>&quot;4PB&quot;</td></tr><tr><td>&hellip;</td><td>&hellip;</td><td>&hellip;</td><td>&hellip;</td><td>&hellip;</td><td>&hellip;</td><td>&hellip;</td><td>&hellip;</td><td>&hellip;</td><td>&hellip;</td><td>&hellip;</td><td>&hellip;</td><td>&hellip;</td><td>&hellip;</td><td>&hellip;</td><td>&hellip;</td><td>&hellip;</td><td>&hellip;</td><td>&hellip;</td><td>&hellip;</td><td>&hellip;</td><td>&hellip;</td><td>&hellip;</td><td>&hellip;</td><td>&hellip;</td><td>&hellip;</td><td>&hellip;</td><td>&hellip;</td><td>&hellip;</td><td>&hellip;</td><td>&hellip;</td><td>&hellip;</td></tr><tr><td>&quot;{F87E72F9-9BED-176C-E053-6B04A…</td><td>185000</td><td>2023-03-01 00:00:00</td><td>&quot;B31 4EL&quot;</td><td>&quot;T&quot;</td><td>&quot;N&quot;</td><td>&quot;F&quot;</td><td>&quot;145&quot;</td><td>&quot;&quot;</td><td>&quot;CONEY GREEN DRIVE&quot;</td><td>&quot;&quot;</td><td>&quot;BIRMINGHAM&quot;</td><td>&quot;BIRMINGHAM&quot;</td><td>&quot;WEST MIDLANDS&quot;</td><td>&quot;A&quot;</td><td>&quot;A&quot;</td><td>&quot;live&quot;</td><td>&quot;small&quot;</td><td>401598</td><td>277745</td><td>1</td><td>&quot;England&quot;</td><td>52.39772</td><td>-1.97794</td><td>&quot;B314EL&quot;</td><td>&quot;B31 4EL&quot;</td><td>&quot;B31&nbsp;&nbsp;4EL&quot;</td><td>&quot;B&quot;</td><td>&quot;B31&quot;</td><td>&quot;B31 4&quot;</td><td>&quot;B31&quot;</td><td>&quot;4EL&quot;</td></tr><tr><td>&quot;{F87E72F9-9493-176C-E053-6B04A…</td><td>90000</td><td>2023-02-10 00:00:00</td><td>&quot;B31 4SX&quot;</td><td>&quot;F&quot;</td><td>&quot;N&quot;</td><td>&quot;L&quot;</td><td>&quot;94&quot;</td><td>&quot;&quot;</td><td>&quot;NUTHURST ROAD&quot;</td><td>&quot;WEST HEATH&quot;</td><td>&quot;BIRMINGHAM&quot;</td><td>&quot;BIRMINGHAM&quot;</td><td>&quot;WEST MIDLANDS&quot;</td><td>&quot;A&quot;</td><td>&quot;A&quot;</td><td>&quot;live&quot;</td><td>&quot;small&quot;</td><td>402039</td><td>276915</td><td>1</td><td>&quot;England&quot;</td><td>52.390256</td><td>-1.971464</td><td>&quot;B314SX&quot;</td><td>&quot;B31 4SX&quot;</td><td>&quot;B31&nbsp;&nbsp;4SX&quot;</td><td>&quot;B&quot;</td><td>&quot;B31&quot;</td><td>&quot;B31 4&quot;</td><td>&quot;B31&quot;</td><td>&quot;4SX&quot;</td></tr><tr><td>&quot;{F87E72F9-9951-176C-E053-6B04A…</td><td>350000</td><td>2023-03-03 00:00:00</td><td>&quot;B31 4RE&quot;</td><td>&quot;S&quot;</td><td>&quot;N&quot;</td><td>&quot;F&quot;</td><td>&quot;235&quot;</td><td>&quot;&quot;</td><td>&quot;LONGBRIDGE LANE&quot;</td><td>&quot;WEST HEATH&quot;</td><td>&quot;BIRMINGHAM&quot;</td><td>&quot;BIRMINGHAM&quot;</td><td>&quot;WEST MIDLANDS&quot;</td><td>&quot;A&quot;</td><td>&quot;A&quot;</td><td>&quot;live&quot;</td><td>&quot;small&quot;</td><td>401915</td><td>277309</td><td>1</td><td>&quot;England&quot;</td><td>52.393799</td><td>-1.973284</td><td>&quot;B314RE&quot;</td><td>&quot;B31 4RE&quot;</td><td>&quot;B31&nbsp;&nbsp;4RE&quot;</td><td>&quot;B&quot;</td><td>&quot;B31&quot;</td><td>&quot;B31 4&quot;</td><td>&quot;B31&quot;</td><td>&quot;4RE&quot;</td></tr><tr><td>&quot;{F87E72F9-A000-176C-E053-6B04A…</td><td>141000</td><td>2023-03-01 00:00:00</td><td>&quot;B31 4QF&quot;</td><td>&quot;T&quot;</td><td>&quot;N&quot;</td><td>&quot;L&quot;</td><td>&quot;76&quot;</td><td>&quot;&quot;</td><td>&quot;GROVELEY LANE&quot;</td><td>&quot;&quot;</td><td>&quot;BIRMINGHAM&quot;</td><td>&quot;BIRMINGHAM&quot;</td><td>&quot;WEST MIDLANDS&quot;</td><td>&quot;A&quot;</td><td>&quot;A&quot;</td><td>&quot;live&quot;</td><td>&quot;small&quot;</td><td>402044</td><td>277030</td><td>1</td><td>&quot;England&quot;</td><td>52.39129</td><td>-1.971389</td><td>&quot;B314QF&quot;</td><td>&quot;B31 4QF&quot;</td><td>&quot;B31&nbsp;&nbsp;4QF&quot;</td><td>&quot;B&quot;</td><td>&quot;B31&quot;</td><td>&quot;B31 4&quot;</td><td>&quot;B31&quot;</td><td>&quot;4QF&quot;</td></tr><tr><td>&quot;{F87E72F9-9D6D-176C-E053-6B04A…</td><td>248000</td><td>2023-02-27 00:00:00</td><td>&quot;B31 4HB&quot;</td><td>&quot;S&quot;</td><td>&quot;N&quot;</td><td>&quot;F&quot;</td><td>&quot;19&quot;</td><td>&quot;&quot;</td><td>&quot;MOORPARK ROAD&quot;</td><td>&quot;&quot;</td><td>&quot;BIRMINGHAM&quot;</td><td>&quot;BIRMINGHAM&quot;</td><td>&quot;WEST MIDLANDS&quot;</td><td>&quot;A&quot;</td><td>&quot;A&quot;</td><td>&quot;live&quot;</td><td>&quot;small&quot;</td><td>402405</td><td>278311</td><td>1</td><td>&quot;England&quot;</td><td>52.402805</td><td>-1.966076</td><td>&quot;B314HB&quot;</td><td>&quot;B31 4HB&quot;</td><td>&quot;B31&nbsp;&nbsp;4HB&quot;</td><td>&quot;B&quot;</td><td>&quot;B31&quot;</td><td>&quot;B31 4&quot;</td><td>&quot;B31&quot;</td><td>&quot;4HB&quot;</td></tr></tbody></table></div>"
      ]
     },
     "execution_count": 26,
     "metadata": {},
     "output_type": "execute_result"
    }
   ],
   "execution_count": 26
  },
  {
   "metadata": {
    "ExecuteTime": {
     "end_time": "2025-03-09T18:46:40.220647Z",
     "start_time": "2025-03-09T18:45:58.020556Z"
    }
   },
   "cell_type": "code",
   "source": "pp.collect().write_parquet(Path.cwd() / \"data\" / \"parquet\" / \"price_paid.parquet\")",
   "id": "25a4bdafcb81fba5",
   "outputs": [],
   "execution_count": 29
  },
  {
   "metadata": {
    "ExecuteTime": {
     "end_time": "2025-03-09T18:47:47.123021Z",
     "start_time": "2025-03-09T18:47:45.232046Z"
    }
   },
   "cell_type": "code",
   "source": "postcodes.collect().write_parquet(Path.cwd() / \"data\" / \"parquet\" / \"postcodes.parquet\")",
   "id": "661f009664b76ca8",
   "outputs": [],
   "execution_count": 31
  },
  {
   "metadata": {
    "ExecuteTime": {
     "end_time": "2025-03-09T18:49:19.213673Z",
     "start_time": "2025-03-09T18:49:19.206479Z"
    }
   },
   "cell_type": "code",
   "source": "pp = pl.scan_parquet(Path.cwd() / \"data\" / \"parquet\" / \"price_paid.parquet\")",
   "id": "2d80cd369923264f",
   "outputs": [],
   "execution_count": 2
  },
  {
   "metadata": {
    "ExecuteTime": {
     "end_time": "2025-03-09T18:49:41.690735Z",
     "start_time": "2025-03-09T18:49:40.795344Z"
    }
   },
   "cell_type": "code",
   "source": "pp.select(\"age\").unique().collect()",
   "id": "387df9ea3b0b576e",
   "outputs": [
    {
     "data": {
      "text/plain": [
       "shape: (2, 1)\n",
       "┌─────┐\n",
       "│ age │\n",
       "│ --- │\n",
       "│ str │\n",
       "╞═════╡\n",
       "│ N   │\n",
       "│ Y   │\n",
       "└─────┘"
      ],
      "text/html": [
       "<div><style>\n",
       ".dataframe > thead > tr,\n",
       ".dataframe > tbody > tr {\n",
       "  text-align: right;\n",
       "  white-space: pre-wrap;\n",
       "}\n",
       "</style>\n",
       "<small>shape: (2, 1)</small><table border=\"1\" class=\"dataframe\"><thead><tr><th>age</th></tr><tr><td>str</td></tr></thead><tbody><tr><td>&quot;N&quot;</td></tr><tr><td>&quot;Y&quot;</td></tr></tbody></table></div>"
      ]
     },
     "execution_count": 3,
     "metadata": {},
     "output_type": "execute_result"
    }
   ],
   "execution_count": 3
  },
  {
   "metadata": {
    "ExecuteTime": {
     "end_time": "2025-03-09T18:54:42.970905Z",
     "start_time": "2025-03-09T18:54:42.327196Z"
    }
   },
   "cell_type": "code",
   "source": "pp.select(\"type\").unique().collect()",
   "id": "481f9edd98df83de",
   "outputs": [
    {
     "data": {
      "text/plain": [
       "shape: (5, 1)\n",
       "┌──────┐\n",
       "│ type │\n",
       "│ ---  │\n",
       "│ str  │\n",
       "╞══════╡\n",
       "│ T    │\n",
       "│ F    │\n",
       "│ O    │\n",
       "│ S    │\n",
       "│ D    │\n",
       "└──────┘"
      ],
      "text/html": [
       "<div><style>\n",
       ".dataframe > thead > tr,\n",
       ".dataframe > tbody > tr {\n",
       "  text-align: right;\n",
       "  white-space: pre-wrap;\n",
       "}\n",
       "</style>\n",
       "<small>shape: (5, 1)</small><table border=\"1\" class=\"dataframe\"><thead><tr><th>type</th></tr><tr><td>str</td></tr></thead><tbody><tr><td>&quot;T&quot;</td></tr><tr><td>&quot;F&quot;</td></tr><tr><td>&quot;O&quot;</td></tr><tr><td>&quot;S&quot;</td></tr><tr><td>&quot;D&quot;</td></tr></tbody></table></div>"
      ]
     },
     "execution_count": 5,
     "metadata": {},
     "output_type": "execute_result"
    }
   ],
   "execution_count": 5
  },
  {
   "metadata": {},
   "cell_type": "code",
   "outputs": [],
   "execution_count": null,
   "source": "",
   "id": "575a2c58103a652c"
  }
 ],
 "metadata": {
  "kernelspec": {
   "display_name": "Python 3",
   "language": "python",
   "name": "python3"
  },
  "language_info": {
   "codemirror_mode": {
    "name": "ipython",
    "version": 2
   },
   "file_extension": ".py",
   "mimetype": "text/x-python",
   "name": "python",
   "nbconvert_exporter": "python",
   "pygments_lexer": "ipython2",
   "version": "2.7.6"
  }
 },
 "nbformat": 4,
 "nbformat_minor": 5
}
